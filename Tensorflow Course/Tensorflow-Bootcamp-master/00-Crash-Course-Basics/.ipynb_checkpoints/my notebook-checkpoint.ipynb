{
 "cells": [
  {
   "cell_type": "code",
   "execution_count": 2,
   "metadata": {},
   "outputs": [],
   "source": [
    "import numpy as np"
   ]
  },
  {
   "cell_type": "code",
   "execution_count": 3,
   "metadata": {},
   "outputs": [],
   "source": [
    "my_list = [1, 2, 3]"
   ]
  },
  {
   "cell_type": "code",
   "execution_count": 4,
   "metadata": {},
   "outputs": [],
   "source": [
    "arr = np.array(my_list)"
   ]
  },
  {
   "cell_type": "code",
   "execution_count": 5,
   "metadata": {},
   "outputs": [
    {
     "data": {
      "text/plain": [
       "array([1, 2, 3])"
      ]
     },
     "execution_count": 5,
     "metadata": {},
     "output_type": "execute_result"
    }
   ],
   "source": [
    "arr"
   ]
  },
  {
   "cell_type": "code",
   "execution_count": 8,
   "metadata": {},
   "outputs": [
    {
     "data": {
      "text/plain": [
       "array([0, 2, 4, 6, 8])"
      ]
     },
     "execution_count": 8,
     "metadata": {},
     "output_type": "execute_result"
    }
   ],
   "source": [
    "np.arange(0, 10, 2)"
   ]
  },
  {
   "cell_type": "code",
   "execution_count": 9,
   "metadata": {},
   "outputs": [
    {
     "data": {
      "text/plain": [
       "array([[0., 0., 0., 0., 0.],\n",
       "       [0., 0., 0., 0., 0.],\n",
       "       [0., 0., 0., 0., 0.]])"
      ]
     },
     "execution_count": 9,
     "metadata": {},
     "output_type": "execute_result"
    }
   ],
   "source": [
    "np.zeros((3, 5))"
   ]
  },
  {
   "cell_type": "code",
   "execution_count": 10,
   "metadata": {},
   "outputs": [
    {
     "data": {
      "text/plain": [
       "array([[1., 1., 1., 1., 1.],\n",
       "       [1., 1., 1., 1., 1.],\n",
       "       [1., 1., 1., 1., 1.]])"
      ]
     },
     "execution_count": 10,
     "metadata": {},
     "output_type": "execute_result"
    }
   ],
   "source": [
    "np.ones((3, 5))"
   ]
  },
  {
   "cell_type": "code",
   "execution_count": 14,
   "metadata": {},
   "outputs": [
    {
     "data": {
      "text/plain": [
       "array([ 3.        ,  3.07070707,  3.14141414,  3.21212121,  3.28282828,\n",
       "        3.35353535,  3.42424242,  3.49494949,  3.56565657,  3.63636364,\n",
       "        3.70707071,  3.77777778,  3.84848485,  3.91919192,  3.98989899,\n",
       "        4.06060606,  4.13131313,  4.2020202 ,  4.27272727,  4.34343434,\n",
       "        4.41414141,  4.48484848,  4.55555556,  4.62626263,  4.6969697 ,\n",
       "        4.76767677,  4.83838384,  4.90909091,  4.97979798,  5.05050505,\n",
       "        5.12121212,  5.19191919,  5.26262626,  5.33333333,  5.4040404 ,\n",
       "        5.47474747,  5.54545455,  5.61616162,  5.68686869,  5.75757576,\n",
       "        5.82828283,  5.8989899 ,  5.96969697,  6.04040404,  6.11111111,\n",
       "        6.18181818,  6.25252525,  6.32323232,  6.39393939,  6.46464646,\n",
       "        6.53535354,  6.60606061,  6.67676768,  6.74747475,  6.81818182,\n",
       "        6.88888889,  6.95959596,  7.03030303,  7.1010101 ,  7.17171717,\n",
       "        7.24242424,  7.31313131,  7.38383838,  7.45454545,  7.52525253,\n",
       "        7.5959596 ,  7.66666667,  7.73737374,  7.80808081,  7.87878788,\n",
       "        7.94949495,  8.02020202,  8.09090909,  8.16161616,  8.23232323,\n",
       "        8.3030303 ,  8.37373737,  8.44444444,  8.51515152,  8.58585859,\n",
       "        8.65656566,  8.72727273,  8.7979798 ,  8.86868687,  8.93939394,\n",
       "        9.01010101,  9.08080808,  9.15151515,  9.22222222,  9.29292929,\n",
       "        9.36363636,  9.43434343,  9.50505051,  9.57575758,  9.64646465,\n",
       "        9.71717172,  9.78787879,  9.85858586,  9.92929293, 10.        ])"
      ]
     },
     "execution_count": 14,
     "metadata": {},
     "output_type": "execute_result"
    }
   ],
   "source": [
    "np.linspace(3, 10, 100)"
   ]
  },
  {
   "cell_type": "code",
   "execution_count": 18,
   "metadata": {},
   "outputs": [
    {
     "data": {
      "text/plain": [
       "array([[3, 8, 9],\n",
       "       [3, 4, 2],\n",
       "       [1, 9, 7]])"
      ]
     },
     "execution_count": 18,
     "metadata": {},
     "output_type": "execute_result"
    }
   ],
   "source": [
    "np.random.randint(0, 10, (3,3))"
   ]
  },
  {
   "cell_type": "code",
   "execution_count": null,
   "metadata": {},
   "outputs": [],
   "source": []
  },
  {
   "cell_type": "code",
   "execution_count": null,
   "metadata": {},
   "outputs": [],
   "source": []
  }
 ],
 "metadata": {
  "kernelspec": {
   "display_name": "Python 3",
   "language": "python",
   "name": "python3"
  },
  "language_info": {
   "codemirror_mode": {
    "name": "ipython",
    "version": 3
   },
   "file_extension": ".py",
   "mimetype": "text/x-python",
   "name": "python",
   "nbconvert_exporter": "python",
   "pygments_lexer": "ipython3",
   "version": "3.7.3"
  }
 },
 "nbformat": 4,
 "nbformat_minor": 2
}
