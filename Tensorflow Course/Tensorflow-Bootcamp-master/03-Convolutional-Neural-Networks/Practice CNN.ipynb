{
 "cells": [
  {
   "cell_type": "code",
   "execution_count": 1,
   "metadata": {},
   "outputs": [],
   "source": [
    "import tensorflow as tf"
   ]
  },
  {
   "cell_type": "code",
   "execution_count": 2,
   "metadata": {},
   "outputs": [],
   "source": [
    "from tensorflow.examples.tutorials.mnist import input_data"
   ]
  },
  {
   "cell_type": "code",
   "execution_count": 3,
   "metadata": {},
   "outputs": [],
   "source": [
    "%config IPCompleter.greedy = True"
   ]
  },
  {
   "cell_type": "code",
   "execution_count": 4,
   "metadata": {},
   "outputs": [
    {
     "name": "stdout",
     "output_type": "stream",
     "text": [
      "WARNING:tensorflow:From <ipython-input-4-758d29429358>:1: read_data_sets (from tensorflow.contrib.learn.python.learn.datasets.mnist) is deprecated and will be removed in a future version.\n",
      "Instructions for updating:\n",
      "Please use alternatives such as official/mnist/dataset.py from tensorflow/models.\n",
      "WARNING:tensorflow:From C:\\Users\\Admin\\Anaconda3\\lib\\site-packages\\tensorflow\\contrib\\learn\\python\\learn\\datasets\\mnist.py:260: maybe_download (from tensorflow.contrib.learn.python.learn.datasets.base) is deprecated and will be removed in a future version.\n",
      "Instructions for updating:\n",
      "Please write your own downloading logic.\n",
      "WARNING:tensorflow:From C:\\Users\\Admin\\Anaconda3\\lib\\site-packages\\tensorflow\\contrib\\learn\\python\\learn\\datasets\\mnist.py:262: extract_images (from tensorflow.contrib.learn.python.learn.datasets.mnist) is deprecated and will be removed in a future version.\n",
      "Instructions for updating:\n",
      "Please use tf.data to implement this functionality.\n",
      "Extracting MNIST_data/train-images-idx3-ubyte.gz\n",
      "WARNING:tensorflow:From C:\\Users\\Admin\\Anaconda3\\lib\\site-packages\\tensorflow\\contrib\\learn\\python\\learn\\datasets\\mnist.py:267: extract_labels (from tensorflow.contrib.learn.python.learn.datasets.mnist) is deprecated and will be removed in a future version.\n",
      "Instructions for updating:\n",
      "Please use tf.data to implement this functionality.\n",
      "Extracting MNIST_data/train-labels-idx1-ubyte.gz\n",
      "WARNING:tensorflow:From C:\\Users\\Admin\\Anaconda3\\lib\\site-packages\\tensorflow\\contrib\\learn\\python\\learn\\datasets\\mnist.py:110: dense_to_one_hot (from tensorflow.contrib.learn.python.learn.datasets.mnist) is deprecated and will be removed in a future version.\n",
      "Instructions for updating:\n",
      "Please use tf.one_hot on tensors.\n",
      "Extracting MNIST_data/t10k-images-idx3-ubyte.gz\n",
      "Extracting MNIST_data/t10k-labels-idx1-ubyte.gz\n",
      "WARNING:tensorflow:From C:\\Users\\Admin\\Anaconda3\\lib\\site-packages\\tensorflow\\contrib\\learn\\python\\learn\\datasets\\mnist.py:290: DataSet.__init__ (from tensorflow.contrib.learn.python.learn.datasets.mnist) is deprecated and will be removed in a future version.\n",
      "Instructions for updating:\n",
      "Please use alternatives such as official/mnist/dataset.py from tensorflow/models.\n"
     ]
    }
   ],
   "source": [
    "mnist = input_data.read_data_sets(\"MNIST_data/\",one_hot=True)"
   ]
  },
  {
   "cell_type": "markdown",
   "metadata": {},
   "source": [
    "## Helper Functions"
   ]
  },
  {
   "cell_type": "code",
   "execution_count": 5,
   "metadata": {},
   "outputs": [],
   "source": [
    "def init_weights(shape):\n",
    "    init_random_dist = tf.truncated_normal(shape, stddev=0.1)\n",
    "    return tf.Variable(init_random_dist)"
   ]
  },
  {
   "cell_type": "code",
   "execution_count": 7,
   "metadata": {},
   "outputs": [],
   "source": [
    "def init_bias(shape):\n",
    "    init_bias_vals = tf.constant(0.1, shape=shape)\n",
    "    return tf.Variable(init_bias_vals)"
   ]
  },
  {
   "cell_type": "code",
   "execution_count": 8,
   "metadata": {},
   "outputs": [],
   "source": [
    "def conv2d(x, W):\n",
    "    # x ---> input, shape = [batch, height, width, channels]\n",
    "    # W ---> filter tensor = [filter_height, filter_width, in_channels, out_channels]\n",
    "    return tf.nn.conv2d(x, W, strides=[1, 1, 1, 1], padding=\"SAME\")"
   ]
  },
  {
   "cell_type": "code",
   "execution_count": 9,
   "metadata": {},
   "outputs": [],
   "source": [
    "def max_pool_2by2(x):\n",
    "    #x ---> input \n",
    "    return tf.nn.max_pool(x, ksize=[1, 2, 2, 1], strides=[1, 2, 2, 1], padding=\"SAME\")"
   ]
  },
  {
   "cell_type": "code",
   "execution_count": 10,
   "metadata": {},
   "outputs": [],
   "source": [
    "def convolutional_layer(input_x, shape): \n",
    "    W = init_weights(shape)\n",
    "    b = init_bias([shape[3]])\n",
    "    return tf.nn.relu(conv2d(input_x, W) + b)"
   ]
  },
  {
   "cell_type": "code",
   "execution_count": 11,
   "metadata": {},
   "outputs": [],
   "source": [
    "def normal_full_layer(input_layer, size):\n",
    "    input_size = int(input_layer.get_shape()[1])\n",
    "    W = init_weights([input_size, size])\n",
    "    b = init_bias([size])\n",
    "    return tf.matmul(input_layer, W) + b"
   ]
  },
  {
   "cell_type": "markdown",
   "metadata": {},
   "source": [
    "## Placeholder"
   ]
  },
  {
   "cell_type": "code",
   "execution_count": 12,
   "metadata": {},
   "outputs": [],
   "source": [
    "x = tf.placeholder(tf.float32, [None, 784])"
   ]
  },
  {
   "cell_type": "code",
   "execution_count": 13,
   "metadata": {},
   "outputs": [],
   "source": [
    "y_true = tf.placeholder(tf.float32, [None, 10])"
   ]
  },
  {
   "cell_type": "markdown",
   "metadata": {},
   "source": [
    "## Layers"
   ]
  },
  {
   "cell_type": "code",
   "execution_count": 14,
   "metadata": {},
   "outputs": [],
   "source": [
    "x_image = tf.reshape(x, [-1, 28, 28, 1])"
   ]
  },
  {
   "cell_type": "code",
   "execution_count": 15,
   "metadata": {},
   "outputs": [
    {
     "name": "stdout",
     "output_type": "stream",
     "text": [
      "WARNING:tensorflow:From C:\\Users\\Admin\\Anaconda3\\lib\\site-packages\\tensorflow\\python\\framework\\op_def_library.py:263: colocate_with (from tensorflow.python.framework.ops) is deprecated and will be removed in a future version.\n",
      "Instructions for updating:\n",
      "Colocations handled automatically by placer.\n"
     ]
    }
   ],
   "source": [
    "convo_1 = convolutional_layer(x_image, [5, 5, 1, 32])\n",
    "convo_1_pooling = max_pool_2by2(convo_1)"
   ]
  },
  {
   "cell_type": "code",
   "execution_count": 16,
   "metadata": {},
   "outputs": [],
   "source": [
    "convo_2 = convolutional_layer(convo_1_pooling, [5, 5, 32, 64])\n",
    "convo_2_pooling = max_pool_2by2(convo_2)"
   ]
  },
  {
   "cell_type": "code",
   "execution_count": 17,
   "metadata": {},
   "outputs": [],
   "source": [
    "convo_2_flat = tf.reshape(convo_2_pooling, [-1, 7 * 7 * 64])\n",
    "full_layer_one = tf.nn.relu(normal_full_layer(convo_2_flat, 1024))"
   ]
  },
  {
   "cell_type": "code",
   "execution_count": 18,
   "metadata": {},
   "outputs": [
    {
     "name": "stdout",
     "output_type": "stream",
     "text": [
      "WARNING:tensorflow:From <ipython-input-18-2915052d6319>:3: calling dropout (from tensorflow.python.ops.nn_ops) with keep_prob is deprecated and will be removed in a future version.\n",
      "Instructions for updating:\n",
      "Please use `rate` instead of `keep_prob`. Rate should be set to `rate = 1 - keep_prob`.\n"
     ]
    }
   ],
   "source": [
    "#Dropout \n",
    "hold_prob = tf.placeholder(tf.float32)\n",
    "full_one_dropout = tf.nn.dropout(full_layer_one, keep_prob=hold_prob)"
   ]
  },
  {
   "cell_type": "code",
   "execution_count": 19,
   "metadata": {},
   "outputs": [],
   "source": [
    "y_pred = normal_full_layer(full_one_dropout, 10)"
   ]
  },
  {
   "cell_type": "markdown",
   "metadata": {},
   "source": [
    "## Loss Function"
   ]
  },
  {
   "cell_type": "code",
   "execution_count": 20,
   "metadata": {},
   "outputs": [
    {
     "name": "stdout",
     "output_type": "stream",
     "text": [
      "WARNING:tensorflow:From <ipython-input-20-de34d8b053ce>:1: softmax_cross_entropy_with_logits (from tensorflow.python.ops.nn_ops) is deprecated and will be removed in a future version.\n",
      "Instructions for updating:\n",
      "\n",
      "Future major versions of TensorFlow will allow gradients to flow\n",
      "into the labels input on backprop by default.\n",
      "\n",
      "See `tf.nn.softmax_cross_entropy_with_logits_v2`.\n",
      "\n"
     ]
    }
   ],
   "source": [
    "cross_entropy = tf.reduce_mean(tf.nn.softmax_cross_entropy_with_logits(labels=y_true, logits=y_pred))"
   ]
  },
  {
   "cell_type": "markdown",
   "metadata": {},
   "source": [
    "## Optimizer"
   ]
  },
  {
   "cell_type": "code",
   "execution_count": 21,
   "metadata": {},
   "outputs": [],
   "source": [
    "optimizer = tf.train.AdamOptimizer(learning_rate = 0.001)"
   ]
  },
  {
   "cell_type": "code",
   "execution_count": 22,
   "metadata": {},
   "outputs": [],
   "source": [
    "train = optimizer.minimize(cross_entropy)"
   ]
  },
  {
   "cell_type": "markdown",
   "metadata": {},
   "source": [
    "## Init variables"
   ]
  },
  {
   "cell_type": "code",
   "execution_count": 23,
   "metadata": {},
   "outputs": [],
   "source": [
    "init = tf.global_variables_initializer()"
   ]
  },
  {
   "cell_type": "markdown",
   "metadata": {},
   "source": [
    "## Session"
   ]
  },
  {
   "cell_type": "code",
   "execution_count": 31,
   "metadata": {},
   "outputs": [],
   "source": [
    "steps = 5000"
   ]
  },
  {
   "cell_type": "code",
   "execution_count": 32,
   "metadata": {},
   "outputs": [
    {
     "name": "stdout",
     "output_type": "stream",
     "text": [
      "Currently step 0\n",
      "Accuracy is:\n",
      "0.1633\n",
      "\n",
      "\n",
      "Currently step 100\n",
      "Accuracy is:\n",
      "0.9471\n",
      "\n",
      "\n",
      "Currently step 200\n",
      "Accuracy is:\n",
      "0.9581\n",
      "\n",
      "\n",
      "Currently step 300\n",
      "Accuracy is:\n",
      "0.9723\n",
      "\n",
      "\n",
      "Currently step 400\n",
      "Accuracy is:\n",
      "0.9727\n",
      "\n",
      "\n",
      "Currently step 500\n",
      "Accuracy is:\n",
      "0.9792\n",
      "\n",
      "\n",
      "Currently step 600\n",
      "Accuracy is:\n",
      "0.9797\n",
      "\n",
      "\n",
      "Currently step 700\n",
      "Accuracy is:\n",
      "0.9793\n",
      "\n",
      "\n",
      "Currently step 800\n",
      "Accuracy is:\n",
      "0.9793\n",
      "\n",
      "\n",
      "Currently step 900\n",
      "Accuracy is:\n",
      "0.9791\n",
      "\n",
      "\n",
      "Currently step 1000\n",
      "Accuracy is:\n",
      "0.9866\n",
      "\n",
      "\n",
      "Currently step 1100\n",
      "Accuracy is:\n",
      "0.9844\n",
      "\n",
      "\n",
      "Currently step 1200\n",
      "Accuracy is:\n",
      "0.9861\n",
      "\n",
      "\n",
      "Currently step 1300\n",
      "Accuracy is:\n",
      "0.9836\n",
      "\n",
      "\n",
      "Currently step 1400\n",
      "Accuracy is:\n",
      "0.985\n",
      "\n",
      "\n",
      "Currently step 1500\n",
      "Accuracy is:\n",
      "0.9853\n",
      "\n",
      "\n",
      "Currently step 1600\n",
      "Accuracy is:\n",
      "0.985\n",
      "\n",
      "\n",
      "Currently step 1700\n",
      "Accuracy is:\n",
      "0.9881\n",
      "\n",
      "\n",
      "Currently step 1800\n",
      "Accuracy is:\n",
      "0.9864\n",
      "\n",
      "\n",
      "Currently step 1900\n",
      "Accuracy is:\n",
      "0.9878\n",
      "\n",
      "\n",
      "Currently step 2000\n",
      "Accuracy is:\n",
      "0.988\n",
      "\n",
      "\n",
      "Currently step 2100\n",
      "Accuracy is:\n",
      "0.9892\n",
      "\n",
      "\n",
      "Currently step 2200\n",
      "Accuracy is:\n",
      "0.9886\n",
      "\n",
      "\n",
      "Currently step 2300\n",
      "Accuracy is:\n",
      "0.989\n",
      "\n",
      "\n",
      "Currently step 2400\n",
      "Accuracy is:\n",
      "0.9866\n",
      "\n",
      "\n",
      "Currently step 2500\n",
      "Accuracy is:\n",
      "0.9867\n",
      "\n",
      "\n",
      "Currently step 2600\n",
      "Accuracy is:\n",
      "0.985\n",
      "\n",
      "\n",
      "Currently step 2700\n",
      "Accuracy is:\n",
      "0.9891\n",
      "\n",
      "\n",
      "Currently step 2800\n",
      "Accuracy is:\n",
      "0.9904\n",
      "\n",
      "\n",
      "Currently step 2900\n",
      "Accuracy is:\n",
      "0.9905\n",
      "\n",
      "\n",
      "Currently step 3000\n",
      "Accuracy is:\n",
      "0.9889\n",
      "\n",
      "\n",
      "Currently step 3100\n",
      "Accuracy is:\n",
      "0.9894\n",
      "\n",
      "\n",
      "Currently step 3200\n",
      "Accuracy is:\n",
      "0.9915\n",
      "\n",
      "\n",
      "Currently step 3300\n",
      "Accuracy is:\n",
      "0.9885\n",
      "\n",
      "\n",
      "Currently step 3400\n",
      "Accuracy is:\n",
      "0.99\n",
      "\n",
      "\n",
      "Currently step 3500\n",
      "Accuracy is:\n",
      "0.9895\n",
      "\n",
      "\n",
      "Currently step 3600\n",
      "Accuracy is:\n",
      "0.9889\n",
      "\n",
      "\n",
      "Currently step 3700\n",
      "Accuracy is:\n",
      "0.9881\n",
      "\n",
      "\n",
      "Currently step 3800\n",
      "Accuracy is:\n",
      "0.9901\n",
      "\n",
      "\n",
      "Currently step 3900\n",
      "Accuracy is:\n",
      "0.988\n",
      "\n",
      "\n",
      "Currently step 4000\n",
      "Accuracy is:\n",
      "0.9898\n",
      "\n",
      "\n",
      "Currently step 4100\n",
      "Accuracy is:\n",
      "0.9883\n",
      "\n",
      "\n",
      "Currently step 4200\n",
      "Accuracy is:\n",
      "0.9897\n",
      "\n",
      "\n",
      "Currently step 4300\n",
      "Accuracy is:\n",
      "0.9915\n",
      "\n",
      "\n",
      "Currently step 4400\n",
      "Accuracy is:\n",
      "0.9914\n",
      "\n",
      "\n",
      "Currently step 4500\n",
      "Accuracy is:\n",
      "0.9912\n",
      "\n",
      "\n",
      "Currently step 4600\n",
      "Accuracy is:\n",
      "0.9909\n",
      "\n",
      "\n",
      "Currently step 4700\n",
      "Accuracy is:\n",
      "0.9921\n",
      "\n",
      "\n",
      "Currently step 4800\n",
      "Accuracy is:\n",
      "0.9897\n",
      "\n",
      "\n",
      "Currently step 4900\n",
      "Accuracy is:\n",
      "0.9916\n",
      "\n",
      "\n"
     ]
    }
   ],
   "source": [
    "with tf.Session() as sess: \n",
    "    \n",
    "    sess.run(init)\n",
    "    \n",
    "    for i in range(steps):\n",
    "        batch_x, batch_y = mnist.train.next_batch(50)\n",
    "        \n",
    "        sess.run(train, feed_dict={x: batch_x, y_true: batch_y, hold_prob: 0.5})\n",
    "        \n",
    "        if i % 100 == 0:\n",
    "            print('Currently step {}'.format(i))\n",
    "            print('Accuracy is:')\n",
    "            \n",
    "            matches = tf.equal(tf.argmax(y_pred, 1), tf.argmax(y_true, 1))\n",
    "            acc = tf.reduce_mean(tf.cast(matches, tf.float32))\n",
    "            \n",
    "            print(sess.run(acc, feed_dict = {x: mnist.test.images, y_true: mnist.test.labels, hold_prob: 1.0}))\n",
    "            print('\\n')"
   ]
  },
  {
   "cell_type": "code",
   "execution_count": null,
   "metadata": {},
   "outputs": [],
   "source": []
  }
 ],
 "metadata": {
  "kernelspec": {
   "display_name": "Python 3",
   "language": "python",
   "name": "python3"
  },
  "language_info": {
   "codemirror_mode": {
    "name": "ipython",
    "version": 3
   },
   "file_extension": ".py",
   "mimetype": "text/x-python",
   "name": "python",
   "nbconvert_exporter": "python",
   "pygments_lexer": "ipython3",
   "version": "3.7.3"
  }
 },
 "nbformat": 4,
 "nbformat_minor": 2
}
